{
 "cells": [
  {
   "cell_type": "code",
   "execution_count": 1,
   "id": "fad9218c-d954-4408-a250-9eafa6a43b99",
   "metadata": {},
   "outputs": [],
   "source": [
    "import random\n",
    "\n",
    "from braket.circuits import Circuit, gates, Instruction\n",
    "from braket.devices import LocalSimulator\n",
    "import braket as bk"
   ]
  },
  {
   "cell_type": "code",
   "execution_count": 2,
   "id": "edab6ac6-8225-45bb-99c2-93cf3454eb62",
   "metadata": {},
   "outputs": [],
   "source": [
    "def constant_oracle(input_size: int = 3, control_size: int = 1):\n",
    "    circ = Circuit()\n",
    "    output = random.randint(0, 1)\n",
    "    gate = gates.I() if output == 1 else gates.X()\n",
    "    for i in range(input_size):\n",
    "        circ.add_instruction(Instruction(gate, i))\n",
    "    return circ"
   ]
  },
  {
   "cell_type": "code",
   "execution_count": 3,
   "id": "41706801-9c5f-4ed2-8d4e-c8b4cdc43e97",
   "metadata": {},
   "outputs": [
    {
     "name": "stdout",
     "output_type": "stream",
     "text": [
      "T  : |0|\n",
      "        \n",
      "q0 : -X-\n",
      "        \n",
      "q1 : -X-\n",
      "        \n",
      "q2 : -X-\n",
      "\n",
      "T  : |0|\n"
     ]
    }
   ],
   "source": [
    "circ = constant_oracle()\n",
    "print(circ.diagram())"
   ]
  },
  {
   "cell_type": "code",
   "execution_count": null,
   "id": "e72152e9-53f9-4b16-bff9-0711e6016ccf",
   "metadata": {},
   "outputs": [],
   "source": []
  }
 ],
 "metadata": {
  "kernelspec": {
   "display_name": "Braket",
   "language": "python",
   "name": "braket"
  },
  "language_info": {
   "codemirror_mode": {
    "name": "ipython",
    "version": 3
   },
   "file_extension": ".py",
   "mimetype": "text/x-python",
   "name": "python",
   "nbconvert_exporter": "python",
   "pygments_lexer": "ipython3",
   "version": "3.9.6"
  }
 },
 "nbformat": 4,
 "nbformat_minor": 5
}
