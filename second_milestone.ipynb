{
 "cells": [
  {
   "cell_type": "code",
   "execution_count": 1,
   "id": "fad9218c-d954-4408-a250-9eafa6a43b99",
   "metadata": {},
   "outputs": [],
   "source": [
    "import random\n",
    "\n",
    "from braket.circuits import Circuit, gates, Instruction\n",
    "from braket.devices import LocalSimulator\n",
    "import braket as bk"
   ]
  },
  {
   "cell_type": "code",
   "execution_count": 4,
   "id": "edab6ac6-8225-45bb-99c2-93cf3454eb62",
   "metadata": {},
   "outputs": [],
   "source": [
    "def balanced_oracle(input_size: int = 3):\n",
    "    circ = Circuit()\n",
    "    for i in range(input_size):\n",
    "        circ.cnot(input_size, i)\n",
    "    return circ"
   ]
  },
  {
   "cell_type": "code",
   "execution_count": 3,
   "id": "41706801-9c5f-4ed2-8d4e-c8b4cdc43e97",
   "metadata": {},
   "outputs": [
    {
     "name": "stdout",
     "output_type": "stream",
     "text": [
      "T  : |0|1|2|\n",
      "            \n",
      "q0 : -X-----\n",
      "      |     \n",
      "q1 : -|-X---\n",
      "      | |   \n",
      "q2 : -|-|-X-\n",
      "      | | | \n",
      "q3 : -C-C-C-\n",
      "\n",
      "T  : |0|1|2|\n"
     ]
    }
   ],
   "source": [
    "circ = balanced_oracle()\n",
    "print(circ.diagram())"
   ]
  },
  {
   "cell_type": "code",
   "execution_count": 5,
   "id": "e72152e9-53f9-4b16-bff9-0711e6016ccf",
   "metadata": {},
   "outputs": [],
   "source": [
    "device = LocalSimulator()"
   ]
  },
  {
   "cell_type": "code",
   "execution_count": 7,
   "id": "95816c42-ccdd-4fa0-b863-aec044d0f0aa",
   "metadata": {},
   "outputs": [
    {
     "data": {
      "text/plain": [
       "LocalQuantumTask('id':fcbab641-2e3c-4dea-9ce7-038c1283ead1)"
      ]
     },
     "execution_count": 7,
     "metadata": {},
     "output_type": "execute_result"
    }
   ],
   "source": [
    "device.run(circ, shots=10)."
   ]
  },
  {
   "cell_type": "code",
   "execution_count": null,
   "id": "41b5f6c5-09c7-4aba-ae07-43597f08bbf7",
   "metadata": {},
   "outputs": [],
   "source": []
  }
 ],
 "metadata": {
  "kernelspec": {
   "display_name": "Braket",
   "language": "python",
   "name": "braket"
  },
  "language_info": {
   "codemirror_mode": {
    "name": "ipython",
    "version": 3
   },
   "file_extension": ".py",
   "mimetype": "text/x-python",
   "name": "python",
   "nbconvert_exporter": "python",
   "pygments_lexer": "ipython3",
   "version": "3.9.6"
  }
 },
 "nbformat": 4,
 "nbformat_minor": 5
}
