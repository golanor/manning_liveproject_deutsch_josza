{
 "cells": [
  {
   "cell_type": "code",
   "execution_count": 1,
   "id": "fad9218c-d954-4408-a250-9eafa6a43b99",
   "metadata": {},
   "outputs": [],
   "source": [
    "import random\n",
    "\n",
    "from braket.circuits import Circuit, gates, Instruction\n",
    "from braket.devices import LocalSimulator\n",
    "import braket as bk\n",
    "import matplotlib.pyplot as plt\n",
    "\n",
    "%matplotlib inline"
   ]
  },
  {
   "cell_type": "code",
   "execution_count": 2,
   "id": "edab6ac6-8225-45bb-99c2-93cf3454eb62",
   "metadata": {},
   "outputs": [],
   "source": [
    "def constant_oracle(input_size: int = 3):\n",
    "    circ = Circuit()\n",
    "    output = random.randint(0, 1)\n",
    "    gate = gates.I() if output == 1 else gates.X()\n",
    "    for i in range(input_size):\n",
    "        circ.add_instruction(Instruction(gate, i))\n",
    "    return circ\n",
    "\n",
    "\n",
    "def balanced_oracle(input_size: int = 3):\n",
    "    circ = Circuit()\n",
    "    for i in range(input_size):\n",
    "        circ.cnot(i, input_size)\n",
    "    return circ\n",
    "\n",
    "\n",
    "def initial_state(input_size: int = 3):\n",
    "    circ = Circuit()\n",
    "    circ.x(input_size)\n",
    "    for i in range(input_size + 1):\n",
    "        circ.h(i)\n",
    "    return circ"
   ]
  },
  {
   "cell_type": "code",
   "execution_count": 3,
   "id": "41706801-9c5f-4ed2-8d4e-c8b4cdc43e97",
   "metadata": {},
   "outputs": [],
   "source": [
    "def full_algorithm(input_size: int = 3):\n",
    "    circ = initial_state(input_size)\n",
    "    oracle = random.choice([constant_oracle, balanced_oracle])\n",
    "    print(oracle.__name__)\n",
    "    circ.add_circuit(oracle(input_size))\n",
    "    for i in range(input_size):\n",
    "        circ.h(i)\n",
    "    return circ"
   ]
  },
  {
   "cell_type": "code",
   "execution_count": 4,
   "id": "425f24ff-ae92-4bc0-9da5-aa5fcc4ca26d",
   "metadata": {},
   "outputs": [],
   "source": [
    "device = LocalSimulator()"
   ]
  },
  {
   "cell_type": "code",
   "execution_count": 5,
   "id": "c275a447-fe32-4f7d-bee6-317ff6963545",
   "metadata": {},
   "outputs": [
    {
     "name": "stdout",
     "output_type": "stream",
     "text": [
      "balanced_oracle\n"
     ]
    },
    {
     "data": {
      "text/plain": [
       "<BarContainer object of 2 artists>"
      ]
     },
     "execution_count": 5,
     "metadata": {},
     "output_type": "execute_result"
    },
    {
     "data": {
      "image/png": "[encoded data removed]",
      "text/plain": [
       "<Figure size 432x288 with 1 Axes>"
      ]
     },
     "metadata": {
      "needs_background": "light"
     },
     "output_type": "display_data"
    }
   ],
   "source": [
    "circ = full_algorithm()\n",
    "counts = device.run(circ, shots=100).result().measurement_counts\n",
    "plt.bar(x=counts.keys(), height=counts.values())"
   ]
  },
  {
   "cell_type": "code",
   "execution_count": null,
   "id": "0e672228-93e9-462f-ae41-547dbe769734",
   "metadata": {},
   "outputs": [],
   "source": []
  }
 ],
 "metadata": {
  "kernelspec": {
   "display_name": "Braket",
   "language": "python",
   "name": "braket"
  },
  "language_info": {
   "codemirror_mode": {
    "name": "ipython",
    "version": 3
   },
   "file_extension": ".py",
   "mimetype": "text/x-python",
   "name": "python",
   "nbconvert_exporter": "python",
   "pygments_lexer": "ipython3",
   "version": "3.9.6"
  }
 },
 "nbformat": 4,
 "nbformat_minor": 5
}
